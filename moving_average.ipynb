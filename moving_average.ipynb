{
 "cells": [
  {
   "cell_type": "code",
   "execution_count": 4,
   "metadata": {},
   "outputs": [],
   "source": [
    "import pandas as pd\n",
    "import numpy as np\n",
    "import scipy.stats as stats\n",
    "from scipy.stats import norm\n",
    "import matplotlib.pyplot as plt"
   ]
  },
  {
   "cell_type": "code",
   "execution_count": 5,
   "metadata": {},
   "outputs": [],
   "source": [
    "def moving_average(d, extra_periods = 1, n=3):\n",
    "    #historical period length\n",
    "    cols = len(d)\n",
    "    #append np.nan into the demand array to cover future periods\n",
    "    d = np.append(d,[np.nan]*extra_periods)\n",
    "    #define the forecast array\n",
    "    f = np.full(cols+extra_periods, np.nan)\n",
    "\n",
    "    #create all the t+1 forecast untill end of historical period\n",
    "    for t in range(n, cols):\n",
    "        f[t] = np.mean(d[t-n:t])\n",
    "\n",
    "    #forecast for all extra periods\n",
    "    f[t+1:] = np.mean(d[t-n+1:t+1])\n",
    "\n",
    "    #return a dataframe with the demand, forecast, and error\n",
    "    df = pd.DataFrame.from_dict({'Demand':d, 'Forecast': f, 'Error': d-f})\n",
    "    return(df)\n"
   ]
  },
  {
   "cell_type": "code",
   "execution_count": 6,
   "metadata": {},
   "outputs": [
    {
     "data": {
      "text/html": [
       "<div>\n",
       "<style scoped>\n",
       "    .dataframe tbody tr th:only-of-type {\n",
       "        vertical-align: middle;\n",
       "    }\n",
       "\n",
       "    .dataframe tbody tr th {\n",
       "        vertical-align: top;\n",
       "    }\n",
       "\n",
       "    .dataframe thead th {\n",
       "        text-align: right;\n",
       "    }\n",
       "</style>\n",
       "<table border=\"1\" class=\"dataframe\">\n",
       "  <thead>\n",
       "    <tr style=\"text-align: right;\">\n",
       "      <th></th>\n",
       "      <th>Demand</th>\n",
       "      <th>Forecast</th>\n",
       "      <th>Error</th>\n",
       "    </tr>\n",
       "  </thead>\n",
       "  <tbody>\n",
       "    <tr>\n",
       "      <th>0</th>\n",
       "      <td>37.0</td>\n",
       "      <td>NaN</td>\n",
       "      <td>NaN</td>\n",
       "    </tr>\n",
       "    <tr>\n",
       "      <th>1</th>\n",
       "      <td>60.0</td>\n",
       "      <td>NaN</td>\n",
       "      <td>NaN</td>\n",
       "    </tr>\n",
       "    <tr>\n",
       "      <th>2</th>\n",
       "      <td>85.0</td>\n",
       "      <td>NaN</td>\n",
       "      <td>NaN</td>\n",
       "    </tr>\n",
       "    <tr>\n",
       "      <th>3</th>\n",
       "      <td>112.0</td>\n",
       "      <td>60.666667</td>\n",
       "      <td>51.333333</td>\n",
       "    </tr>\n",
       "    <tr>\n",
       "      <th>4</th>\n",
       "      <td>132.0</td>\n",
       "      <td>85.666667</td>\n",
       "      <td>46.333333</td>\n",
       "    </tr>\n",
       "    <tr>\n",
       "      <th>5</th>\n",
       "      <td>145.0</td>\n",
       "      <td>109.666667</td>\n",
       "      <td>35.333333</td>\n",
       "    </tr>\n",
       "    <tr>\n",
       "      <th>6</th>\n",
       "      <td>179.0</td>\n",
       "      <td>129.666667</td>\n",
       "      <td>49.333333</td>\n",
       "    </tr>\n",
       "    <tr>\n",
       "      <th>7</th>\n",
       "      <td>198.0</td>\n",
       "      <td>152.000000</td>\n",
       "      <td>46.000000</td>\n",
       "    </tr>\n",
       "    <tr>\n",
       "      <th>8</th>\n",
       "      <td>150.0</td>\n",
       "      <td>174.000000</td>\n",
       "      <td>-24.000000</td>\n",
       "    </tr>\n",
       "    <tr>\n",
       "      <th>9</th>\n",
       "      <td>132.0</td>\n",
       "      <td>175.666667</td>\n",
       "      <td>-43.666667</td>\n",
       "    </tr>\n",
       "    <tr>\n",
       "      <th>10</th>\n",
       "      <td>NaN</td>\n",
       "      <td>160.000000</td>\n",
       "      <td>NaN</td>\n",
       "    </tr>\n",
       "  </tbody>\n",
       "</table>\n",
       "</div>"
      ],
      "text/plain": [
       "    Demand    Forecast      Error\n",
       "0     37.0         NaN        NaN\n",
       "1     60.0         NaN        NaN\n",
       "2     85.0         NaN        NaN\n",
       "3    112.0   60.666667  51.333333\n",
       "4    132.0   85.666667  46.333333\n",
       "5    145.0  109.666667  35.333333\n",
       "6    179.0  129.666667  49.333333\n",
       "7    198.0  152.000000  46.000000\n",
       "8    150.0  174.000000 -24.000000\n",
       "9    132.0  175.666667 -43.666667\n",
       "10     NaN  160.000000        NaN"
      ]
     },
     "execution_count": 6,
     "metadata": {},
     "output_type": "execute_result"
    }
   ],
   "source": [
    "\n",
    "\n",
    "d = [37,60,85,112,132,145,179,198,150,132]\n",
    "data = moving_average(d, extra_periods=1)\n",
    "data\n"
   ]
  },
  {
   "cell_type": "code",
   "execution_count": 7,
   "metadata": {},
   "outputs": [
    {
     "data": {
      "text/plain": [
       "<AxesSubplot:title={'center':'Moving Average'}>"
      ]
     },
     "execution_count": 7,
     "metadata": {},
     "output_type": "execute_result"
    },
    {
     "data": {
      "image/png": "[encoded data removed]",
      "text/plain": [
       "<Figure size 576x216 with 1 Axes>"
      ]
     },
     "metadata": {
      "needs_background": "light"
     },
     "output_type": "display_data"
    }
   ],
   "source": [
    "data[['Demand','Forecast','Error']].plot(figsize=(8,3), title = 'Moving Average', style = ['-','--','--'])"
   ]
  },
  {
   "cell_type": "code",
   "execution_count": 8,
   "metadata": {},
   "outputs": [],
   "source": [
    "def kpi(df):\n",
    "    #average demand\n",
    "    dem_ave = df.loc[df['Error'].notnull(), 'Demand'].mean()\n",
    "    #absolute bias\n",
    "    bias_abs = df['Error'].mean()\n",
    "    #relative bias\n",
    "    bias_rel = bias_abs / dem_ave\n",
    "    #print results \n",
    "    print('Bias: {:0.2f}, {:.2%}'.format(bias_abs, bias_rel))\n",
    "\n",
    "    #calculate MAPE\n",
    "    MAPE = (df['Error'].abs() / df['Demand']).mean()\n",
    "    #print results\n",
    "    print('MAPE: {:0.2%}'.format(MAPE))\n",
    "\n",
    "    #calculate absoltue and scaled MAE\n",
    "    MAE_abs = df['Error'].abs().mean()\n",
    "    MAE_rel = MAE_abs / dem_ave\n",
    "    #print results\n",
    "    print('MAE: {:0.2f}, {:0.2%}'.format(MAE_abs,MAE_rel))\n",
    "\n",
    "    #calculate absolute and scaled RSME\n",
    "    RMSE_abs = np.sqrt((df['Error']**2).mean())\n",
    "    RMSE_rel =  RMSE_abs / dem_ave\n",
    "    #print results\n",
    "    print('RMSE: {:0.2f}, {:0.2%}'.format(RMSE_abs,RMSE_rel))\n",
    "\n",
    "    "
   ]
  },
  {
   "cell_type": "code",
   "execution_count": 9,
   "metadata": {},
   "outputs": [
    {
     "name": "stdout",
     "output_type": "stream",
     "text": [
      "Bias: 22.95, 15.33%\n",
      "MAPE: 29.31%\n",
      "MAE: 42.29, 28.24%\n",
      "RMSE: 43.20, 28.85%\n"
     ]
    }
   ],
   "source": [
    "kpi(data)"
   ]
  },
  {
   "cell_type": "code",
   "execution_count": null,
   "metadata": {},
   "outputs": [],
   "source": []
  }
 ],
 "metadata": {
  "interpreter": {
   "hash": "7cbe2c19f9c0c24baaa32e065b62fa82ceb1f2c7e2320fcbef78b78f3411137b"
  },
  "kernelspec": {
   "display_name": "Python 3.10.0 64-bit ('minimal_ds': conda)",
   "language": "python",
   "name": "python3"
  },
  "language_info": {
   "codemirror_mode": {
    "name": "ipython",
    "version": 3
   },
   "file_extension": ".py",
   "mimetype": "text/x-python",
   "name": "python",
   "nbconvert_exporter": "python",
   "pygments_lexer": "ipython3",
   "version": "3.10.0"
  },
  "orig_nbformat": 4
 },
 "nbformat": 4,
 "nbformat_minor": 2
}
