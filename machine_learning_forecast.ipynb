{
 "cells": [
  {
   "cell_type": "code",
   "execution_count": 1,
   "metadata": {},
   "outputs": [],
   "source": [
    "import pandas as pd\n",
    "import numpy as np"
   ]
  },
  {
   "cell_type": "code",
   "execution_count": 37,
   "metadata": {},
   "outputs": [],
   "source": [
    "def import_data():\n",
    "    data = pd.read_csv('https://supchains.com/wp-content/uploads/2021/07/norway_new_car_sales_by_make1.csv') #import data\n",
    "    data['Period'] = data['Year'].astype(str) + '-' + data['Month'].astype(str).str.zfill(2) #create period column and account for padded zeros\n",
    "    df = pd.pivot_table(data = data, values='Quantity', index = 'Make', columns = 'Period', aggfunc = 'sum', fill_value=0)\n",
    "    return df\n"
   ]
  },
  {
   "cell_type": "code",
   "execution_count": 38,
   "metadata": {},
   "outputs": [],
   "source": [
    "def datasets(df, x_len = 12, y_len = 1, test_loops = 12):\n",
    "    D = df.values\n",
    "    rows,periods = df.shape\n",
    "    \n",
    "    #training set creation\n",
    "    loops = periods + 1 - x_len - y_len\n",
    "    train = []\n",
    "    for col in range(loops):\n",
    "        train.append(D[:,col:col+x_len+y_len])\n",
    "    train = np.vstack(train)\n",
    "    X_train, Y_train = np.split(train, [-y_len], axis = 1)\n",
    "\n",
    "    #test set creation\n",
    "    if test_loops > 0:\n",
    "        X_train, X_test = np.split(X_train, [-rows*test_loops], axis = 0)\n",
    "        Y_train, Y_test = np.split(Y_train, [-rows*test_loops], axis = 0)\n",
    "    else: #no test set: X_test is used to generate the future forecast\n",
    "        X_test = D[:,-x_len:]\n",
    "        Y_test = np.full((X_test.shape[0],y_len), np.nan) #dummy value\n",
    "\n",
    "    #formatting required for scikit-learn\n",
    "    if y_len == 1:\n",
    "        Y_train = Y_train.ravel()\n",
    "        Y_test = Y_test.ravel()\n",
    "\n",
    "    return(X_train, Y_train, X_test, Y_test)\n",
    "    "
   ]
  },
  {
   "cell_type": "code",
   "execution_count": 51,
   "metadata": {},
   "outputs": [],
   "source": [
    "def kpi_ML(Y_train, Y_train_pred, Y_test, Y_test_pred, name=''):\n",
    "    df = pd.DataFrame(columns = ['MAE', 'RMSE', 'Bias'], index = ['Train', 'Test'])\n",
    "    df.index.name = name\n",
    "\n",
    "    df.loc['Train','MAE'] = 100*np.mean(abs(Y_train - Y_train_pred))/np.mean(Y_train)\n",
    "\n",
    "    df.loc['Train','RMSE'] = 100*np.sqrt(np.mean((Y_train - Y_train_pred)**2))/np.mean(Y_train)\n",
    "\n",
    "    df.loc['Train','Bias'] = 100*np.mean(abs(Y_train - Y_train_pred))/np.mean(Y_train)\n",
    "\n",
    "    df.loc['Test','MAE'] = 100*np.mean(abs(Y_test - Y_test_pred))/np.mean(Y_test)\n",
    "\n",
    "    df.loc['Test','RMSE'] = 100*np.sqrt(np.mean((Y_test - Y_test_pred)**2))/np.mean(Y_test)\n",
    "\n",
    "    df.loc['Test','Bias'] = 100*np.mean(abs(Y_test - Y_test_pred))/np.mean(Y_test)\n",
    "\n",
    "    df = df.astype(float).round(1)\n",
    "    print(df)"
   ]
  },
  {
   "cell_type": "code",
   "execution_count": 52,
   "metadata": {},
   "outputs": [],
   "source": [
    "df = import_data()\n",
    "X_train, Y_train, X_test, Y_test = datasets(df, x_len=12, y_len=1, test_loops=12)"
   ]
  },
  {
   "cell_type": "code",
   "execution_count": 53,
   "metadata": {},
   "outputs": [],
   "source": [
    "from sklearn.linear_model import LinearRegression\n",
    "reg = LinearRegression() #create linear regression object\n",
    "reg = reg.fit(X_train, Y_train) #fit it to training data\n",
    "\n",
    "#create two predictions for the training and test sets\n",
    "Y_train_pred = reg.predict(X_train)\n",
    "Y_test_pred = reg.predict(X_test)\n"
   ]
  },
  {
   "cell_type": "code",
   "execution_count": 54,
   "metadata": {},
   "outputs": [
    {
     "name": "stdout",
     "output_type": "stream",
     "text": [
      "             MAE  RMSE  Bias\n",
      "Regression                  \n",
      "Train       17.8  43.9  17.8\n",
      "Test        17.8  43.7  17.8\n"
     ]
    }
   ],
   "source": [
    "kpi_ML(Y_train, Y_train_pred, Y_test, Y_test_pred, name='Regression')"
   ]
  },
  {
   "cell_type": "code",
   "execution_count": 56,
   "metadata": {},
   "outputs": [
    {
     "data": {
      "text/html": [
       "<div>\n",
       "<style scoped>\n",
       "    .dataframe tbody tr th:only-of-type {\n",
       "        vertical-align: middle;\n",
       "    }\n",
       "\n",
       "    .dataframe tbody tr th {\n",
       "        vertical-align: top;\n",
       "    }\n",
       "\n",
       "    .dataframe thead th {\n",
       "        text-align: right;\n",
       "    }\n",
       "</style>\n",
       "<table border=\"1\" class=\"dataframe\">\n",
       "  <thead>\n",
       "    <tr style=\"text-align: right;\">\n",
       "      <th></th>\n",
       "      <th>0</th>\n",
       "    </tr>\n",
       "    <tr>\n",
       "      <th>Make</th>\n",
       "      <th></th>\n",
       "    </tr>\n",
       "  </thead>\n",
       "  <tbody>\n",
       "    <tr>\n",
       "      <th>Alfa Romeo</th>\n",
       "      <td>6.187217</td>\n",
       "    </tr>\n",
       "    <tr>\n",
       "      <th>Aston Martin</th>\n",
       "      <td>1.032483</td>\n",
       "    </tr>\n",
       "    <tr>\n",
       "      <th>Audi</th>\n",
       "      <td>646.568622</td>\n",
       "    </tr>\n",
       "    <tr>\n",
       "      <th>BMW</th>\n",
       "      <td>1265.032834</td>\n",
       "    </tr>\n",
       "    <tr>\n",
       "      <th>Bentley</th>\n",
       "      <td>1.218092</td>\n",
       "    </tr>\n",
       "  </tbody>\n",
       "</table>\n",
       "</div>"
      ],
      "text/plain": [
       "                        0\n",
       "Make                     \n",
       "Alfa Romeo       6.187217\n",
       "Aston Martin     1.032483\n",
       "Audi           646.568622\n",
       "BMW           1265.032834\n",
       "Bentley          1.218092"
      ]
     },
     "execution_count": 56,
     "metadata": {},
     "output_type": "execute_result"
    }
   ],
   "source": [
    "X_train, Y_train, X_test, Y_test = datasets(df, x_len=12, y_len=1, test_loops =0)\n",
    "reg = LinearRegression()\n",
    "reg = reg.fit(X_train, Y_train)\n",
    "forecast = pd.DataFrame(data = reg.predict(X_test), index = df.index)\n",
    "forecast.head() "
   ]
  },
  {
   "cell_type": "code",
   "execution_count": 57,
   "metadata": {},
   "outputs": [],
   "source": [
    "#hello"
   ]
  },
  {
   "cell_type": "code",
   "execution_count": null,
   "metadata": {},
   "outputs": [],
   "source": []
  }
 ],
 "metadata": {
  "interpreter": {
   "hash": "7cbe2c19f9c0c24baaa32e065b62fa82ceb1f2c7e2320fcbef78b78f3411137b"
  },
  "kernelspec": {
   "display_name": "Python 3.10.0 64-bit ('minimal_ds': conda)",
   "language": "python",
   "name": "python3"
  },
  "language_info": {
   "codemirror_mode": {
    "name": "ipython",
    "version": 3
   },
   "file_extension": ".py",
   "mimetype": "text/x-python",
   "name": "python",
   "nbconvert_exporter": "python",
   "pygments_lexer": "ipython3",
   "version": "3.10.0"
  },
  "orig_nbformat": 4
 },
 "nbformat": 4,
 "nbformat_minor": 2
}
